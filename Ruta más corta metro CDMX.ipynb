{
 "cells": [
  {
   "cell_type": "markdown",
   "id": "252d2584",
   "metadata": {},
   "source": [
    "# Estaciones de metro (RUTA MÁS CERCANA)"
   ]
  },
  {
   "cell_type": "markdown",
   "id": "722e6af1",
   "metadata": {},
   "source": [
    "# algoritmo dijkstra"
   ]
  },
  {
   "cell_type": "code",
   "execution_count": null,
   "id": "d9305962",
   "metadata": {},
   "outputs": [],
   "source": [
    "import pandas as pd\n",
    "import numpy as np\n",
    "import networkx as nx"
   ]
  },
  {
   "cell_type": "markdown",
   "id": "51b19360",
   "metadata": {},
   "source": [
    "Cargamos la base de datos de nuestro repositorio "
   ]
  },
  {
   "cell_type": "code",
   "execution_count": 2,
   "id": "c1437862",
   "metadata": {},
   "outputs": [],
   "source": [
    "df = pd.read_excel('metro.xlsx')"
   ]
  },
  {
   "cell_type": "markdown",
   "id": "792d535a",
   "metadata": {},
   "source": [
    "Creamos un dataframe especial de la libreria networkx que hace que clasifique dos columnas \"con las mismas categorias y otra columna un valor mnúmerico\""
   ]
  },
  {
   "cell_type": "code",
   "execution_count": 5,
   "id": "32627c12",
   "metadata": {},
   "outputs": [],
   "source": [
    "METRO = nx.from_pandas_edgelist(df,source='Origen',target='Destino',edge_attr='Longitud de interestación')"
   ]
  },
  {
   "cell_type": "code",
   "execution_count": 23,
   "id": "0365c8eb",
   "metadata": {
    "scrolled": true
   },
   "outputs": [
    {
     "data": {
      "text/plain": [
       "1257"
      ]
     },
     "execution_count": 23,
     "metadata": {},
     "output_type": "execute_result"
    }
   ],
   "source": [
    "METRO['El Rosario']['Tezozómoc']['Longitud de interestación']\n",
    "# ejemplo de cómo se maneja este data frame\n"
   ]
  },
  {
   "cell_type": "code",
   "execution_count": 52,
   "id": "272ee5df",
   "metadata": {},
   "outputs": [
    {
     "name": "stdout",
     "output_type": "stream",
     "text": [
      "['Pantitlán', 'San Lázaro', 'Candelaria', 'Pino Suárez', 'Salto del Agua', 'Balderas', 'Tacubaya', 'Tacuba', 'Hidalgo', 'Bellas Artes', 'Chabacano', 'Ermita', 'Deportivo 18 de Marzo', 'La Raza', 'Guerrero', 'Centro Médico', 'Zapata', 'Santa Anita', 'Jamaica', 'Morelos', 'Consulado', 'Instituto del Petróleo', 'Oceanía', 'Mixcoac', 'Garibaldi', 'Atlalilco']\n"
     ]
    }
   ],
   "source": [
    "# Estaciones que tienen transborde con otras lineas \n",
    "x=[]\n",
    "for i in METRO.nodes:\n",
    "    if METRO.degree[i]>2:\n",
    "        x.append(i)\n",
    "print(x)        \n"
   ]
  },
  {
   "cell_type": "code",
   "execution_count": 106,
   "id": "2f8942ed",
   "metadata": {},
   "outputs": [
    {
     "data": {
      "text/plain": [
       "['Pantitlán',\n",
       " 'San Lázaro',\n",
       " 'Candelaria',\n",
       " 'Pino Suárez',\n",
       " 'Salto del Agua',\n",
       " 'Balderas',\n",
       " 'Tacubaya',\n",
       " 'Tacuba',\n",
       " 'Hidalgo',\n",
       " 'Bellas Artes',\n",
       " 'Chabacano',\n",
       " 'Ermita',\n",
       " 'Deportivo 18 de Marzo',\n",
       " 'La Raza',\n",
       " 'Guerrero',\n",
       " 'Centro Médico',\n",
       " 'Zapata',\n",
       " 'Santa Anita',\n",
       " 'Jamaica',\n",
       " 'Morelos',\n",
       " 'Consulado',\n",
       " 'Instituto del Petróleo',\n",
       " 'Oceanía',\n",
       " 'Mixcoac',\n",
       " 'Garibaldi',\n",
       " 'Atlalilco']"
      ]
     },
     "execution_count": 106,
     "metadata": {},
     "output_type": "execute_result"
    }
   ],
   "source": [
    "# OTRA FORMA DE VER LAS ESTACIONES CON TRANSBORDE SIN USAR FOR  \n",
    "x=list(filter(lambda a: METRO.degree[a]>2, METRO.nodes))\n",
    "x"
   ]
  },
  {
   "cell_type": "markdown",
   "id": "3bc0d135",
   "metadata": {},
   "source": [
    "Veamos si queremos ir de la escación Balbuena (Linea 1) a Universidad(Linea 3) que necesitariamos recorrer.\n",
    "Esta es la forma más rápida de llegar en metro."
   ]
  },
  {
   "cell_type": "code",
   "execution_count": 24,
   "id": "0a423e3e",
   "metadata": {
    "scrolled": true
   },
   "outputs": [
    {
     "data": {
      "text/plain": [
       "['Balbuena',\n",
       " 'Moctezuma',\n",
       " 'San Lázaro',\n",
       " 'Candelaria',\n",
       " 'Merced',\n",
       " 'Pino Suárez',\n",
       " 'Isabel la Católica',\n",
       " 'Salto del Agua',\n",
       " 'Balderas',\n",
       " 'Niños Héroes',\n",
       " 'Hospital General',\n",
       " 'Centro Médico',\n",
       " 'Etiopía/Plaza de la Transparencia',\n",
       " 'Eugenia',\n",
       " 'División del Norte',\n",
       " 'Zapata',\n",
       " 'Coyoacán',\n",
       " 'Viveros/Derechos Humanos',\n",
       " 'Miguel Ángel de Quevedo',\n",
       " 'Copilco',\n",
       " 'Universidad']"
      ]
     },
     "execution_count": 24,
     "metadata": {},
     "output_type": "execute_result"
    }
   ],
   "source": [
    "djk_path= nx.dijkstra_path(METRO, source='Balbuena', target='Universidad', weight='Longitud de interestación')\n",
    "djk_path"
   ]
  },
  {
   "cell_type": "code",
   "execution_count": 60,
   "id": "9d12358c",
   "metadata": {},
   "outputs": [
    {
     "data": {
      "text/plain": [
       "21"
      ]
     },
     "execution_count": 60,
     "metadata": {},
     "output_type": "execute_result"
    }
   ],
   "source": [
    "# Cantidad de estaciones que se deben recorrer\n",
    "len(djk_path)"
   ]
  },
  {
   "cell_type": "code",
   "execution_count": 66,
   "id": "122e9932",
   "metadata": {},
   "outputs": [
    {
     "name": "stdout",
     "output_type": "stream",
     "text": [
      "15.716 kilometros\n"
     ]
    }
   ],
   "source": [
    "# Distancia a recorrer\n",
    "print(nx.dijkstra_path_length(METRO, 'Balbuena', 'Universidad', 'Longitud de interestación')/1000, 'kilometros')"
   ]
  },
  {
   "cell_type": "markdown",
   "id": "ad20a646",
   "metadata": {},
   "source": [
    "## CENTRALIDAD"
   ]
  },
  {
   "cell_type": "code",
   "execution_count": 10,
   "id": "a60dfb6a",
   "metadata": {},
   "outputs": [],
   "source": [
    "centralidad_intermediacion = nx.betweenness_centrality(METRO)"
   ]
  },
  {
   "cell_type": "markdown",
   "id": "9cfdf675",
   "metadata": {},
   "source": [
    "Calcula la centralidad entre nodos, es decir hay nodos que pueden estar más centrados en la red y veremos u ordenaremos cual es el más decentralizado y el más centralizado"
   ]
  },
  {
   "cell_type": "code",
   "execution_count": 99,
   "id": "6c7dab41",
   "metadata": {},
   "outputs": [
    {
     "data": {
      "text/plain": [
       "[('Cuatro Caminos', 0.0), ('Jamaica', 0.3317885785967223)]"
      ]
     },
     "execution_count": 99,
     "metadata": {},
     "output_type": "execute_result"
    }
   ],
   "source": [
    "\n",
    "list(map(lambda i: sorted(centralidad_intermediacion.items(), key=lambda x:x[1])[i],[1,-1]))"
   ]
  },
  {
   "cell_type": "markdown",
   "id": "210f4b99",
   "metadata": {},
   "source": [
    "la mejor forma de ordenar un diccionario en este caso $central intermediacion$ es usando la funcion incluida items y la llave key = lambda x:x[1]"
   ]
  },
  {
   "cell_type": "code",
   "execution_count": 100,
   "id": "50afdaa6",
   "metadata": {},
   "outputs": [],
   "source": [
    "intermediacion_10=['Jamaica','Chabacano','Candelaria','Centro Médico','Fray Servando','Atlalilco','Oceanía','San Lázaro','Tacubaya','Santa Anita']"
   ]
  },
  {
   "cell_type": "code",
   "execution_count": 107,
   "id": "54623d36",
   "metadata": {},
   "outputs": [],
   "source": [
    "intermediacion_10=set(intermediacion_10)"
   ]
  },
  {
   "cell_type": "code",
   "execution_count": 163,
   "id": "a6a58fe9",
   "metadata": {},
   "outputs": [],
   "source": [
    "Estaciones_transborde=set(x)"
   ]
  },
  {
   "cell_type": "code",
   "execution_count": 164,
   "id": "d4c953da",
   "metadata": {},
   "outputs": [],
   "source": [
    "mayor=sorted(centralidad_intermediacion.items(), key=lambda x:x[1])[-5:]"
   ]
  },
  {
   "cell_type": "code",
   "execution_count": 169,
   "id": "365c1d70",
   "metadata": {},
   "outputs": [
    {
     "data": {
      "text/plain": [
       "{'Candelaria', 'Centro Médico', 'Chabacano', 'Fray Servando', 'Jamaica'}"
      ]
     },
     "execution_count": 169,
     "metadata": {},
     "output_type": "execute_result"
    }
   ],
   "source": [
    "mayor_centralidad=set(list(map(lambda x: x[0],menor)))\n",
    "mayor_centralidad"
   ]
  },
  {
   "cell_type": "code",
   "execution_count": 14,
   "id": "c62c2fcd",
   "metadata": {},
   "outputs": [],
   "source": [
    "menor_afluencia=['Deptvo. 18 de Marzo','Santa Anita ','Tlaltenco','Inst. del Petróleo','Bosque de Aragón ','Consulado','Chabacano','Valle Gómez','Consulado']\n",
    "menor_afluencia=set(menor_afluencia)"
   ]
  },
  {
   "cell_type": "code",
   "execution_count": 166,
   "id": "72626a8a",
   "metadata": {},
   "outputs": [
    {
     "data": {
      "text/plain": [
       "{'Chabacano'}"
      ]
     },
     "execution_count": 166,
     "metadata": {},
     "output_type": "execute_result"
    }
   ],
   "source": [
    "# La funcion interseccion en set es de ayuda\n",
    "menor_afluencia.intersection(intermediacion_10)"
   ]
  },
  {
   "cell_type": "code",
   "execution_count": 171,
   "id": "fa269e99",
   "metadata": {},
   "outputs": [
    {
     "data": {
      "text/plain": [
       "{'Candelaria', 'Centro Médico', 'Chabacano', 'Jamaica'}"
      ]
     },
     "execution_count": 171,
     "metadata": {},
     "output_type": "execute_result"
    }
   ],
   "source": [
    "menors_centralidad.intersection(Estaciones_transborde)\n",
    "# Notamos que de las 5 estaciones con mayor centralidad 4 de estás son transbordes"
   ]
  }
 ],
 "metadata": {
  "kernelspec": {
   "display_name": "Python 3 (ipykernel)",
   "language": "python",
   "name": "python3"
  },
  "language_info": {
   "codemirror_mode": {
    "name": "ipython",
    "version": 3
   },
   "file_extension": ".py",
   "mimetype": "text/x-python",
   "name": "python",
   "nbconvert_exporter": "python",
   "pygments_lexer": "ipython3",
   "version": "3.9.13"
  },
  "toc": {
   "base_numbering": 1,
   "nav_menu": {},
   "number_sections": true,
   "sideBar": true,
   "skip_h1_title": false,
   "title_cell": "Table of Contents",
   "title_sidebar": "Contents",
   "toc_cell": false,
   "toc_position": {},
   "toc_section_display": true,
   "toc_window_display": false
  }
 },
 "nbformat": 4,
 "nbformat_minor": 5
}
